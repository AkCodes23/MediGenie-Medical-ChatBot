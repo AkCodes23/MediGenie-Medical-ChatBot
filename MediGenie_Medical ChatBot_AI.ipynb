{
 "cells": [
  {
   "cell_type": "markdown",
   "id": "a6a4d46e-cba2-4ad5-9cd5-f6abb52443c5",
   "metadata": {},
   "source": [
    "# MediGenie: Medical ChatBot AI\n"
   ]
  },
  {
   "cell_type": "markdown",
   "id": "63b22c74-b9bd-4626-8ebe-bcdf22690143",
   "metadata": {},
   "source": [
    "## Overview\n",
    "MediGenie is an AI-driven chatbot designed to assist with medical queries by leveraging state-of-the-art language models and biomedical tools. The project integrates advanced AI capabilities with specialized APIs such as NCBI Entrez to offer insights, retrieve information, and provide intelligent responses tailored to healthcare needs.\n"
   ]
  },
  {
   "cell_type": "markdown",
   "id": "80143725-dce5-43eb-b8d0-5d52529a5a03",
   "metadata": {},
   "source": [
    "## Table of Contents\n",
    "1. [Introduction](#introduction)\n",
    "2. [Setup](#setup)\n",
    "   - [Importing Libraries](#importing-libraries)\n",
    "   - [Loading Environment Variables](#loading-environment-variables)\n",
    "3. [Model Initialization](#model-initialization)\n",
    "4. [NCBI Entrez API Configuration](#ncbi-entrez-api-configuration)\n",
    "5. [Usage](#usage)\n",
    "6. [Future Enhancements](#future-enhancements)"
   ]
  },
  {
   "cell_type": "markdown",
   "id": "82be5a08-ee4b-49d6-a845-25d4c5298f0f",
   "metadata": {},
   "source": [
    "## 1. Introduction\n",
    "MediGenie leverages the power of advanced artificial intelligence, particularly in the fields of natural language processing (NLP) and machine learning, to bridge the gap between medical professionals and essential healthcare information. By analyzing vast amounts of biomedical data, research articles, clinical guidelines, and patient records, MediGenie empowers users to obtain accurate and relevant medical insights quickly.\n",
    "\n",
    "Designed with both medical professionals and patients in mind, MediGenie offers a user-friendly interface that allows for natural language-based queries, enabling users to ask medical questions in everyday language. Whether it's symptom identification, treatment recommendations, or understanding complex medical conditions, MediGenie provides real-time, evidence-backed responses that support clinical decision-making and patient care.\n",
    "\n",
    "With its ability to process large datasets, MediGenie also aids in identifying patterns and trends, helping healthcare providers make data-driven decisions. Furthermore, its AI capabilities evolve and improve over time, continuously learning from new research, medical publications, and user interactions to enhance its accuracy and effectiveness.\n",
    "\n",
    "Ultimately, MediGenie strives to improve health outcomes by facilitating timely access to trustworthy medical information, enhancing the decision-making process, and empowering users with knowledge for better healthcare management."
   ]
  },
  {
   "cell_type": "markdown",
   "id": "d977c70d-53a6-4800-9d4c-fba560923522",
   "metadata": {},
   "source": [
    "## 2. Setup\n",
    "### Installing Dependencies"
   ]
  },
  {
   "cell_type": "code",
   "execution_count": null,
   "id": "e34aeaba-c68a-44fe-89b8-19ec33ba7665",
   "metadata": {},
   "outputs": [],
   "source": [
    "pip install langchain langchain-groq python-dotenv biopython requests"
   ]
  },
  {
   "cell_type": "markdown",
   "id": "4866dda5-6ba1-443b-b5ad-9b4708dc11b6",
   "metadata": {},
   "source": [
    "### Importing Libraries"
   ]
  },
  {
   "cell_type": "code",
   "execution_count": null,
   "id": "ac15982f-3040-4f26-bc3d-3a212db36563",
   "metadata": {},
   "outputs": [],
   "source": [
    "# Import necessary libraries\n",
    "from langchain.agents import initialize_agent, Tool, AgentType\n",
    "from langchain_groq import ChatGroq\n",
    "from langchain_core.tools import tool\n",
    "from dotenv import load_dotenv\n",
    "from Bio import Entrez\n",
    "import os"
   ]
  },
  {
   "cell_type": "markdown",
   "id": "6884f782-e97e-4e6a-a16c-7e8186b52efb",
   "metadata": {},
   "source": [
    "These libraries include:\n",
    "- **LangChain**: For agent-based operations and tool integrations.\n",
    "- **ChatGroq**: For conversational AI models.\n",
    "- **Bio.Entrez**: For accessing NCBI Entrez.\n",
    "- **dotenv**: For managing environment variables.\n"
   ]
  },
  {
   "cell_type": "markdown",
   "id": "4f354a63-647d-459e-9d09-331cfa231d56",
   "metadata": {},
   "source": [
    "## 3. Loading Environment Variables and Model Initialization "
   ]
  },
  {
   "cell_type": "code",
   "execution_count": null,
   "id": "01419210-8e76-4f93-a0ad-0cd792a2e973",
   "metadata": {},
   "outputs": [],
   "source": [
    "# Load Environment Variables\n",
    "load_dotenv()\n",
    "groq_api_key = 'Your Groq API KEY'\n",
    "\n",
    "# Initialize Chat Model\n",
    "llm = ChatGroq(api_key=groq_api_key, model=\"llama-3.3-70b-versatile\")\n"
   ]
  },
  {
   "cell_type": "markdown",
   "id": "b2ca74d0-0064-45a0-adda-232c8cbb1fa7",
   "metadata": {},
   "source": [
    "Explanation:\n",
    "- **load_dotenv()**: Loads variables from a `.env` file.\n",
    "- **groq_api_key**: Stores the API key for ChatGroq.\n",
    "- The `ChatGroq` model is used to power conversational capabilities.\n",
    "- The API key ensures secure access to the model.\n"
   ]
  },
  {
   "cell_type": "markdown",
   "id": "1ae4fccf-675e-47e0-bdcc-e908f3f0f2b1",
   "metadata": {},
   "source": [
    "## 4. NCBI Entrez API Configuration"
   ]
  },
  {
   "cell_type": "code",
   "execution_count": null,
   "id": "240f85f8-5a7c-44b3-9f2a-85a771a476bf",
   "metadata": {},
   "outputs": [],
   "source": [
    "# Set email for NCBI Entrez API (required for proper usage)\n",
    "Entrez.email = \"Your Mail ID\""
   ]
  },
  {
   "cell_type": "markdown",
   "id": "d078347f-5cf7-4509-b35e-65869824e022",
   "metadata": {},
   "source": [
    "## 5. Usage\n",
    "To interact with the chatbot, initialize tools and execute queries using LangChain’s agent framework:"
   ]
  },
  {
   "cell_type": "code",
   "execution_count": null,
   "id": "3b6e056d-de47-4aca-86cf-bcfd05837916",
   "metadata": {},
   "outputs": [],
   "source": [
    "# Function to retrieve articles from PubMed\n",
    "def retrieve_pubmed_articles(query, max_results=5):\n",
    "    handle = Entrez.esearch(db=\"pubmed\", term=query, retmax=max_results)\n",
    "    record = Entrez.read(handle)\n",
    "    handle.close()\n",
    "    \n",
    "    id_list = record[\"IdList\"]\n",
    "    if not id_list:\n",
    "        return []\n",
    "    \n",
    "    handle = Entrez.efetch(db=\"pubmed\", id=\",\".join(id_list), rettype=\"medline\", retmode=\"text\")\n",
    "    articles = handle.read()\n",
    "    handle.close()\n",
    "    \n",
    "    return articles\n",
    "\n",
    "# Mock Medical Model Function\n",
    "def mock_medical_model(symptom: str) -> str:\n",
    "    # Simulate a response based on the symptom\n",
    "    responses = {\n",
    "        \"headache\": \"Headaches can be caused by various factors including tension, dehydration, or migraines. It's advisable to stay hydrated and rest.\",\n",
    "        \"fever\": \"Fever is often a sign of infection. Common causes include flu or other viral infections. Monitor your symptoms and consult a doctor if necessary.\",\n",
    "        \"cough\": \"A cough can indicate a cold, flu, or allergies. If persistent, consider seeing a healthcare provider.\",\n",
    "        \"nausea\": \"Nausea can be due to food poisoning, motion sickness, or pregnancy. If it persists, consult a healthcare professional.\"\n",
    "    }\n",
    "    return responses.get(symptom.lower(), \"Consult a healthcare provider for more information.\")\n"
   ]
  },
  {
   "cell_type": "code",
   "execution_count": null,
   "id": "6a6c6894-f418-49fe-8a02-617e16abecc7",
   "metadata": {},
   "outputs": [],
   "source": [
    "# Define Tools for Medical Queries\n",
    "@tool\n",
    "def symptom_mapping(symptom: str) -> str:\n",
    "    \"\"\"\n",
    "    Maps symptoms to possible medical conditions.\n",
    "    \n",
    "    Args:\n",
    "    symptom (str): A comma-separated string of symptoms to analyze.\n",
    "    \n",
    "    Returns:\n",
    "    str: A list of possible conditions mapped to the symptoms.\n",
    "    \"\"\"\n",
    "    mappings = {\n",
    "        \"fever\": \"Possible flu or infection\",\n",
    "        \"headache\": \"Could be a migraine or dehydration\",\n",
    "        \"cough\": \"Possibly a cold, flu, or COVID-19\",\n",
    "        \"nausea\": \"May indicate food poisoning or early pregnancy\"\n",
    "    }\n",
    "    mapped = [mappings.get(s.strip().lower(), \"Unknown\") for s in symptom.split(\",\")]\n",
    "    return \", \".join(mapped)\n",
    "\n",
    "@tool\n",
    "def medication_advice(condition: str) -> str:\n",
    "    \"\"\"\n",
    "    Provides medication advice based on the medical condition.\n",
    "    \n",
    "    Args:\n",
    "    condition (str): The medical condition to provide advice for.\n",
    "    \n",
    "    Returns:\n",
    "    str: Medication advice for the specified condition.\n",
    "    \"\"\"\n",
    "    advice = {\n",
    "        \"fever\": \"Use paracetamol or ibuprofen, and stay hydrated.\",\n",
    "        \"migraine\": \"Consider ibuprofen or a prescribed migraine medication.\",\n",
    "        \"cold\": \"Rest, stay hydrated, and consider antihistamines.\"\n",
    "    }\n",
    "    return advice.get(condition.lower(), \"Consult a doctor for advice.\")\n",
    "\n",
    "@tool\n",
    "def first_aid_guidance(issue: str) -> str:\n",
    "    \"\"\"\n",
    "    Provides first aid guidance for specific health issues.\n",
    "    \n",
    "    Args:\n",
    "    issue (str): The health issue to get first aid guidance for.\n",
    "    \n",
    "    Returns:\n",
    "    str: First aid guidance for the specified health issue.\n",
    "    \"\"\"\n",
    "    first_aid = {\n",
    "        \"burn\": \"Cool the burn under running water for 20 minutes. Do not apply ice.\",\n",
    "        \"cut\": \"Clean the wound and apply pressure to stop bleeding.\",\n",
    "        \"choking\": \"Perform the Heimlich maneuver. Call emergency services if needed.\"\n",
    "    }\n",
    "    return first_aid.get(issue.lower(), \"Refer to a certified first aid guide.\")\n",
    "\n",
    "@tool\n",
    "def dietary_recommendation(condition: str) -> str:\n",
    "    \"\"\"\n",
    "    Provides dietary recommendations based on medical conditions.\n",
    "    \n",
    "    Args:\n",
    "    condition (str): The medical condition to provide dietary advice for.\n",
    "    \n",
    "    Returns:\n",
    "    str: Dietary recommendations for the specified condition.\n",
    "    \"\"\"\n",
    "    diet_plans = {\n",
    "        \"diabetes\": \"Focus on low-glycemic foods, vegetables, and whole grains.\",\n",
    "        \"hypertension\": \"Limit sodium intake and include potassium-rich foods.\",\n",
    "        \"anemia\": \"Increase iron intake through spinach, legumes, and red meat.\"\n",
    "    }\n",
    "    return diet_plans.get(condition.lower(), \"Consult a dietitian for tailored advice.\")\n",
    "\n",
    "@tool\n",
    "def retrieve_pubmed_articles(symptom: str) -> str:\n",
    "    \"\"\"\n",
    "    Retrieves relevant PubMed articles for the given symptom.\n",
    "    \n",
    "    Args:\n",
    "    symptom (str): The symptom to search PubMed for.\n",
    "    \n",
    "    Returns:\n",
    "    str: A list of relevant PubMed articles.\n",
    "    \"\"\"\n",
    "    # This is a mock function, replace it with actual PubMed API retrieval logic.\n",
    "    return f\"Mock articles related to {symptom}.\"\n",
    "\n",
    "@tool\n",
    "def mock_medical_model(symptom: str) -> str:\n",
    "    \"\"\"\n",
    "    Provides medical details about the symptom using a mock medical model.\n",
    "    \n",
    "    Args:\n",
    "    symptom (str): The symptom to analyze.\n",
    "    \n",
    "    Returns:\n",
    "    str: Mock medical information related to the symptom.\n",
    "    \"\"\"\n",
    "    # This is a mock function, replace it with actual medical model logic.\n",
    "    return f\"Mock medical details for {symptom}.\"\n",
    "\n",
    "@tool\n",
    "def enhanced_medical_query(symptom: str) -> str:\n",
    "    \"\"\"\n",
    "    Provides a detailed medical query response including possible conditions, medical details, and relevant articles.\n",
    "    \n",
    "    Args:\n",
    "    symptom (str): The symptom to analyze.\n",
    "    \n",
    "    Returns:\n",
    "    str: Detailed medical information including possible conditions, medical details, and PubMed articles.\n",
    "    \"\"\"\n",
    "    # Use the symptom mapping to get possible conditions\n",
    "    possible_conditions = symptom_mapping.invoke(symptom)\n",
    "    \n",
    "    # Retrieve articles from PubMed for more detailed information (Mocked)\n",
    "    pubmed_articles = retrieve_pubmed_articles.invoke(symptom)\n",
    "    # Use the mock medical model to provide a specific answer (Mocked)\n",
    "    medical_answer = mock_medical_model.invoke(symptom)\n",
    "    \n",
    "    return f\"Possible Conditions: {possible_conditions}\\nMedical Details: {medical_answer}\\nPubMed Articles: {pubmed_articles}\"\n",
    "\n",
    "# Aggregate Tools\n",
    "medical_tools = [\n",
    "    symptom_mapping,\n",
    "    medication_advice,\n",
    "    first_aid_guidance,\n",
    "    dietary_recommendation,\n",
    "    enhanced_medical_query\n",
    "]\n"
   ]
  },
  {
   "cell_type": "code",
   "execution_count": null,
   "id": "ae1a6c2a-6c95-4f36-8376-75e8e0226d57",
   "metadata": {},
   "outputs": [],
   "source": [
    "class MediGenie:\n",
    "    def __init__(self, tools, llm):\n",
    "        self.agent = initialize_agent(\n",
    "            tools=tools,\n",
    "            llm=llm,\n",
    "            agent_type=AgentType.ZERO_SHOT_REACT_DESCRIPTION,\n",
    "            verbose=True\n",
    "        )\n",
    "        self.state = {}  # Track symptoms discussed\n",
    "        self.termination_triggered = False\n",
    "\n",
    "    def ask_clarifying_questions(self, symptom):\n",
    "        clarifications = {\n",
    "            \"dizziness\": \"Could you describe when the dizziness occurs (e.g., after standing up, while lying down)?\",\n",
    "            \"headache\": \"Where is the pain located? Is it sharp, dull, or throbbing?\",\n",
    "            \"cough\": \"Is the cough dry or productive? Are there additional symptoms like fever?\"\n",
    "        }\n",
    "        return clarifications.get(symptom.lower(), f\"Could you tell me more about your symptom '{symptom}'?\")\n",
    "\n",
    "    def handle_input(self, user_input):\n",
    "        # Basic input validation\n",
    "        if not user_input.strip():\n",
    "            return \"I didn't catch that. Could you describe your symptom in more detail?\"\n",
    "    \n",
    "        if user_input in self.state:  # Prevent repetitive discussions\n",
    "            return f\"It seems we've already discussed {user_input}. Any new symptoms or questions?\"\n",
    "    \n",
    "        self.state[user_input] = True  # Mark the symptom as discussed\n",
    "    \n",
    "        try:\n",
    "            response = self.agent.run(user_input)  # Process input\n",
    "        except Exception as e:\n",
    "            return f\"Something went wrong while analyzing your symptom. Error: {str(e)}\"\n",
    "    \n",
    "        # Ask for more information or feedback\n",
    "        feedback_question = self.ask_clarifying_questions(user_input)\n",
    "        return f\"{response}\\n\\n{feedback_question}\"\n",
    "\n",
    "    def reset_session(self):\n",
    "        self.state = {}\n",
    "        self.termination_triggered = False\n",
    "        return \"The session has been reset. You can now start a new query.\"\n",
    "\n",
    "    def check_termination(self):\n",
    "     if self.termination_triggered:\n",
    "        return \"Thank you for using MediGenie. Before we close, do you have any more questions?\"\n",
    "\n",
    "    def terminate(self):\n",
    "        self.termination_triggered = True\n",
    "        return (\n",
    "            \"Thanks for using MediGenie! Remember to consult a healthcare provider for serious concerns. \"\n",
    "            \"For emergencies, please contact local medical services immediately.\"\n",
    "        )\n",
    "\n"
   ]
  },
  {
   "cell_type": "markdown",
   "id": "147ded59-4572-4656-a3b4-ba884dd646ff",
   "metadata": {},
   "source": [
    "## 6. Interactive ChatBot"
   ]
  },
  {
   "cell_type": "code",
   "execution_count": null,
   "id": "bec9ca22-0770-4887-9f39-57d88d7854a2",
   "metadata": {
    "scrolled": true
   },
   "outputs": [],
   "source": [
    "# Initialize LangChain Agent (only if required explicitly in the flow)\n",
    "agent = initialize_agent(\n",
    "    tools=medical_tools,\n",
    "    llm=llm,\n",
    "    agent_type=AgentType.ZERO_SHOT_REACT_DESCRIPTION,\n",
    "    verbose=True\n",
    ")\n",
    " # Interactive session for MediGenie\n",
    "def interactive_session(medi_genie):\n",
    "    print(\"Welcome to MediGenie! Type 'exit' to end the session or 'reset' to start over.\")\n",
    "    while True:\n",
    "        user_input = input(\"Describe your symptoms or ask a question: \")\n",
    "        if user_input.lower() == 'exit':\n",
    "            print(medi_genie.terminate())\n",
    "            break\n",
    "        elif user_input.lower() == 'reset':\n",
    "            print(medi_genie.reset_session())\n",
    "        else:\n",
    "            response = medi_genie.handle_input(user_input)\n",
    "            print(\"\\nMediGenie Response:\", response)\n",
    "\n",
    "# Initialize MediGenie and start the session\n",
    "medi_genie = MediGenie(tools=medical_tools, llm=llm)\n",
    "interactive_session(medi_genie)\n"
   ]
  },
  {
   "cell_type": "code",
   "execution_count": null,
   "id": "03901626-ba59-4d87-b5b4-bc21112db377",
   "metadata": {},
   "outputs": [],
   "source": [
    "# Test Case : Termination\n",
    "print(medi_genie.terminate())\n",
    "print(medi_genie.check_termination())"
   ]
  }
 ],
 "metadata": {
  "kernelspec": {
   "display_name": "Python 3 (ipykernel)",
   "language": "python",
   "name": "python3"
  },
  "language_info": {
   "codemirror_mode": {
    "name": "ipython",
    "version": 3
   },
   "file_extension": ".py",
   "mimetype": "text/x-python",
   "name": "python",
   "nbconvert_exporter": "python",
   "pygments_lexer": "ipython3",
   "version": "3.12.0"
  }
 },
 "nbformat": 4,
 "nbformat_minor": 5
}
